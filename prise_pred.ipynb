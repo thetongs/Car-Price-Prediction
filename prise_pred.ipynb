{
 "metadata": {
  "language_info": {
   "codemirror_mode": {
    "name": "ipython",
    "version": 3
   },
   "file_extension": ".py",
   "mimetype": "text/x-python",
   "name": "python",
   "nbconvert_exporter": "python",
   "pygments_lexer": "ipython3",
   "version": "3.7.9-final"
  },
  "orig_nbformat": 2,
  "kernelspec": {
   "name": "python3",
   "display_name": "Python 3",
   "language": "python"
  }
 },
 "nbformat": 4,
 "nbformat_minor": 2,
 "cells": [
  {
   "cell_type": "code",
   "execution_count": 2,
   "metadata": {},
   "outputs": [],
   "source": [
    "## Car price prediction\n",
    "#"
   ]
  },
  {
   "cell_type": "code",
   "execution_count": 80,
   "metadata": {},
   "outputs": [],
   "source": [
    "## Loaad pre libraries\n",
    "# \n",
    "import numpy as np\n",
    "import pandas as pd\n",
    "import matplotlib.pyplot as plt\n"
   ]
  },
  {
   "cell_type": "code",
   "execution_count": 90,
   "metadata": {},
   "outputs": [
    {
     "output_type": "stream",
     "name": "stdout",
     "text": [
      "Training set last index : 6019\n"
     ]
    },
    {
     "output_type": "execute_result",
     "data": {
      "text/plain": [
       "   Unnamed: 0                              Name    Location  Year  \\\n",
       "0           0            Maruti Wagon R LXI CNG      Mumbai  2010   \n",
       "1           1  Hyundai Creta 1.6 CRDi SX Option        Pune  2015   \n",
       "2           2                      Honda Jazz V     Chennai  2011   \n",
       "3           3                 Maruti Ertiga VDI     Chennai  2012   \n",
       "4           4   Audi A4 New 2.0 TDI Multitronic  Coimbatore  2013   \n",
       "\n",
       "   Kilometers_Driven Fuel_Type Transmission Owner_Type     Mileage   Engine  \\\n",
       "0              72000       CNG       Manual      First  26.6 km/kg   998 CC   \n",
       "1              41000    Diesel       Manual      First  19.67 kmpl  1582 CC   \n",
       "2              46000    Petrol       Manual      First   18.2 kmpl  1199 CC   \n",
       "3              87000    Diesel       Manual      First  20.77 kmpl  1248 CC   \n",
       "4              40670    Diesel    Automatic     Second   15.2 kmpl  1968 CC   \n",
       "\n",
       "       Power  Seats  New_Price  Price  \n",
       "0  58.16 bhp    5.0        NaN   1.75  \n",
       "1  126.2 bhp    5.0        NaN  12.50  \n",
       "2   88.7 bhp    5.0  8.61 Lakh   4.50  \n",
       "3  88.76 bhp    7.0        NaN   6.00  \n",
       "4  140.8 bhp    5.0        NaN  17.74  "
      ],
      "text/html": "<div>\n<style scoped>\n    .dataframe tbody tr th:only-of-type {\n        vertical-align: middle;\n    }\n\n    .dataframe tbody tr th {\n        vertical-align: top;\n    }\n\n    .dataframe thead th {\n        text-align: right;\n    }\n</style>\n<table border=\"1\" class=\"dataframe\">\n  <thead>\n    <tr style=\"text-align: right;\">\n      <th></th>\n      <th>Unnamed: 0</th>\n      <th>Name</th>\n      <th>Location</th>\n      <th>Year</th>\n      <th>Kilometers_Driven</th>\n      <th>Fuel_Type</th>\n      <th>Transmission</th>\n      <th>Owner_Type</th>\n      <th>Mileage</th>\n      <th>Engine</th>\n      <th>Power</th>\n      <th>Seats</th>\n      <th>New_Price</th>\n      <th>Price</th>\n    </tr>\n  </thead>\n  <tbody>\n    <tr>\n      <th>0</th>\n      <td>0</td>\n      <td>Maruti Wagon R LXI CNG</td>\n      <td>Mumbai</td>\n      <td>2010</td>\n      <td>72000</td>\n      <td>CNG</td>\n      <td>Manual</td>\n      <td>First</td>\n      <td>26.6 km/kg</td>\n      <td>998 CC</td>\n      <td>58.16 bhp</td>\n      <td>5.0</td>\n      <td>NaN</td>\n      <td>1.75</td>\n    </tr>\n    <tr>\n      <th>1</th>\n      <td>1</td>\n      <td>Hyundai Creta 1.6 CRDi SX Option</td>\n      <td>Pune</td>\n      <td>2015</td>\n      <td>41000</td>\n      <td>Diesel</td>\n      <td>Manual</td>\n      <td>First</td>\n      <td>19.67 kmpl</td>\n      <td>1582 CC</td>\n      <td>126.2 bhp</td>\n      <td>5.0</td>\n      <td>NaN</td>\n      <td>12.50</td>\n    </tr>\n    <tr>\n      <th>2</th>\n      <td>2</td>\n      <td>Honda Jazz V</td>\n      <td>Chennai</td>\n      <td>2011</td>\n      <td>46000</td>\n      <td>Petrol</td>\n      <td>Manual</td>\n      <td>First</td>\n      <td>18.2 kmpl</td>\n      <td>1199 CC</td>\n      <td>88.7 bhp</td>\n      <td>5.0</td>\n      <td>8.61 Lakh</td>\n      <td>4.50</td>\n    </tr>\n    <tr>\n      <th>3</th>\n      <td>3</td>\n      <td>Maruti Ertiga VDI</td>\n      <td>Chennai</td>\n      <td>2012</td>\n      <td>87000</td>\n      <td>Diesel</td>\n      <td>Manual</td>\n      <td>First</td>\n      <td>20.77 kmpl</td>\n      <td>1248 CC</td>\n      <td>88.76 bhp</td>\n      <td>7.0</td>\n      <td>NaN</td>\n      <td>6.00</td>\n    </tr>\n    <tr>\n      <th>4</th>\n      <td>4</td>\n      <td>Audi A4 New 2.0 TDI Multitronic</td>\n      <td>Coimbatore</td>\n      <td>2013</td>\n      <td>40670</td>\n      <td>Diesel</td>\n      <td>Automatic</td>\n      <td>Second</td>\n      <td>15.2 kmpl</td>\n      <td>1968 CC</td>\n      <td>140.8 bhp</td>\n      <td>5.0</td>\n      <td>NaN</td>\n      <td>17.74</td>\n    </tr>\n  </tbody>\n</table>\n</div>"
     },
     "metadata": {},
     "execution_count": 90
    }
   ],
   "source": [
    "## Load dataset\n",
    "#\n",
    "dataset_train =  pd.read_csv('train-data.csv')\n",
    "dataset_train.head()\n",
    "\n",
    "pin1 = len(dataset_train)\n",
    "print(\"Training set last index : {}\".format(pin1))\n",
    "\n",
    "dataset_test =  pd.read_csv('test-data.csv')\n",
    "dataset_train = dataset_train.append(dataset_test)\n",
    "dataset_train.head()"
   ]
  },
  {
   "cell_type": "code",
   "execution_count": 91,
   "metadata": {},
   "outputs": [
    {
     "output_type": "stream",
     "name": "stdout",
     "text": [
      "Total records : 7253\nTotal columns : 14\nColumn names : Index(['Unnamed: 0', 'Name', 'Location', 'Year', 'Kilometers_Driven',\n       'Fuel_Type', 'Transmission', 'Owner_Type', 'Mileage', 'Engine', 'Power',\n       'Seats', 'New_Price', 'Price'],\n      dtype='object')\n"
     ]
    }
   ],
   "source": [
    "## Basic information of dataset\n",
    "# \n",
    "\n",
    "# Total records\n",
    "print(\"Total records : {}\".format(len(dataset_train)))\n",
    "\n",
    "# Total columns\n",
    "print(\"Total columns : {}\".format(len(dataset_train.columns)))\n",
    "\n",
    "# Column names\n",
    "print(\"Column names : {}\".format(dataset_train.columns))"
   ]
  },
  {
   "cell_type": "code",
   "execution_count": 92,
   "metadata": {},
   "outputs": [
    {
     "output_type": "stream",
     "name": "stdout",
     "text": [
      "<class 'pandas.core.frame.DataFrame'>\nInt64Index: 7253 entries, 0 to 1233\nData columns (total 14 columns):\n #   Column             Non-Null Count  Dtype  \n---  ------             --------------  -----  \n 0   Unnamed: 0         7253 non-null   int64  \n 1   Name               7253 non-null   object \n 2   Location           7253 non-null   object \n 3   Year               7253 non-null   int64  \n 4   Kilometers_Driven  7253 non-null   int64  \n 5   Fuel_Type          7253 non-null   object \n 6   Transmission       7253 non-null   object \n 7   Owner_Type         7253 non-null   object \n 8   Mileage            7251 non-null   object \n 9   Engine             7207 non-null   object \n 10  Power              7207 non-null   object \n 11  Seats              7200 non-null   float64\n 12  New_Price          1006 non-null   object \n 13  Price              6019 non-null   float64\ndtypes: float64(2), int64(3), object(9)\nmemory usage: 850.0+ KB\n"
     ]
    }
   ],
   "source": [
    "## General information of dataset\n",
    "#\n",
    "\n",
    "dataset_train.info()"
   ]
  },
  {
   "cell_type": "code",
   "execution_count": 93,
   "metadata": {},
   "outputs": [
    {
     "output_type": "execute_result",
     "data": {
      "text/plain": [
       "        Unnamed: 0         Year  Kilometers_Driven        Seats        Price\n",
       "count  7253.000000  7253.000000       7.253000e+03  7200.000000  6019.000000\n",
       "mean   2601.948435  2013.365366       5.869906e+04     5.279722     9.479468\n",
       "std    1826.365869     3.254421       8.442772e+04     0.811660    11.187917\n",
       "min       0.000000  1996.000000       1.710000e+02     0.000000     0.440000\n",
       "25%     906.000000  2011.000000       3.400000e+04     5.000000     3.500000\n",
       "50%    2392.000000  2014.000000       5.341600e+04     5.000000     5.640000\n",
       "75%    4205.000000  2016.000000       7.300000e+04     5.000000     9.950000\n",
       "max    6018.000000  2019.000000       6.500000e+06    10.000000   160.000000"
      ],
      "text/html": "<div>\n<style scoped>\n    .dataframe tbody tr th:only-of-type {\n        vertical-align: middle;\n    }\n\n    .dataframe tbody tr th {\n        vertical-align: top;\n    }\n\n    .dataframe thead th {\n        text-align: right;\n    }\n</style>\n<table border=\"1\" class=\"dataframe\">\n  <thead>\n    <tr style=\"text-align: right;\">\n      <th></th>\n      <th>Unnamed: 0</th>\n      <th>Year</th>\n      <th>Kilometers_Driven</th>\n      <th>Seats</th>\n      <th>Price</th>\n    </tr>\n  </thead>\n  <tbody>\n    <tr>\n      <th>count</th>\n      <td>7253.000000</td>\n      <td>7253.000000</td>\n      <td>7.253000e+03</td>\n      <td>7200.000000</td>\n      <td>6019.000000</td>\n    </tr>\n    <tr>\n      <th>mean</th>\n      <td>2601.948435</td>\n      <td>2013.365366</td>\n      <td>5.869906e+04</td>\n      <td>5.279722</td>\n      <td>9.479468</td>\n    </tr>\n    <tr>\n      <th>std</th>\n      <td>1826.365869</td>\n      <td>3.254421</td>\n      <td>8.442772e+04</td>\n      <td>0.811660</td>\n      <td>11.187917</td>\n    </tr>\n    <tr>\n      <th>min</th>\n      <td>0.000000</td>\n      <td>1996.000000</td>\n      <td>1.710000e+02</td>\n      <td>0.000000</td>\n      <td>0.440000</td>\n    </tr>\n    <tr>\n      <th>25%</th>\n      <td>906.000000</td>\n      <td>2011.000000</td>\n      <td>3.400000e+04</td>\n      <td>5.000000</td>\n      <td>3.500000</td>\n    </tr>\n    <tr>\n      <th>50%</th>\n      <td>2392.000000</td>\n      <td>2014.000000</td>\n      <td>5.341600e+04</td>\n      <td>5.000000</td>\n      <td>5.640000</td>\n    </tr>\n    <tr>\n      <th>75%</th>\n      <td>4205.000000</td>\n      <td>2016.000000</td>\n      <td>7.300000e+04</td>\n      <td>5.000000</td>\n      <td>9.950000</td>\n    </tr>\n    <tr>\n      <th>max</th>\n      <td>6018.000000</td>\n      <td>2019.000000</td>\n      <td>6.500000e+06</td>\n      <td>10.000000</td>\n      <td>160.000000</td>\n    </tr>\n  </tbody>\n</table>\n</div>"
     },
     "metadata": {},
     "execution_count": 93
    }
   ],
   "source": [
    "## Statistical information \n",
    "#\n",
    "\n",
    "dataset_train.describe()"
   ]
  },
  {
   "cell_type": "code",
   "execution_count": 94,
   "metadata": {},
   "outputs": [
    {
     "output_type": "execute_result",
     "data": {
      "text/plain": [
       "Unnamed: 0              0\n",
       "Name                    0\n",
       "Location                0\n",
       "Year                    0\n",
       "Kilometers_Driven       0\n",
       "Fuel_Type               0\n",
       "Transmission            0\n",
       "Owner_Type              0\n",
       "Mileage                 2\n",
       "Engine                 46\n",
       "Power                  46\n",
       "Seats                  53\n",
       "New_Price            6247\n",
       "Price                1234\n",
       "dtype: int64"
      ]
     },
     "metadata": {},
     "execution_count": 94
    }
   ],
   "source": [
    "## Check missing values\n",
    "#\n",
    "\n",
    "dataset_train.isna().sum()"
   ]
  },
  {
   "cell_type": "code",
   "execution_count": 95,
   "metadata": {},
   "outputs": [
    {
     "output_type": "execute_result",
     "data": {
      "text/plain": [
       "Unnamed: 0              0\n",
       "Name                    0\n",
       "Location                0\n",
       "Year                    0\n",
       "Kilometers_Driven       0\n",
       "Fuel_Type               0\n",
       "Transmission            0\n",
       "Owner_Type              0\n",
       "Mileage                 0\n",
       "Engine                  0\n",
       "Power                   0\n",
       "Seats                   0\n",
       "New_Price            6247\n",
       "Price                1234\n",
       "dtype: int64"
      ]
     },
     "metadata": {},
     "execution_count": 95
    }
   ],
   "source": [
    "## Handle mising values\n",
    "#\n",
    "from sklearn.impute import SimpleImputer\n",
    "\n",
    "imputer = SimpleImputer(missing_values = np.nan,\n",
    "                        strategy = 'most_frequent')\n",
    "dataset_train[[\"Mileage\", \"Engine\", \"Power\", \"Seats\"]] = imputer.fit_transform(dataset_train[[\"Mileage\", \"Engine\", \"Power\", \"Seats\"]])\n",
    "\n",
    "dataset_train.isna().sum()"
   ]
  },
  {
   "cell_type": "code",
   "execution_count": 96,
   "metadata": {},
   "outputs": [
    {
     "output_type": "execute_result",
     "data": {
      "text/plain": [
       "                               Name    Location  Year  Kilometers_Driven  \\\n",
       "0            Maruti Wagon R LXI CNG      Mumbai  2010              72000   \n",
       "1  Hyundai Creta 1.6 CRDi SX Option        Pune  2015              41000   \n",
       "2                      Honda Jazz V     Chennai  2011              46000   \n",
       "3                 Maruti Ertiga VDI     Chennai  2012              87000   \n",
       "4   Audi A4 New 2.0 TDI Multitronic  Coimbatore  2013              40670   \n",
       "\n",
       "  Fuel_Type Transmission Owner_Type     Mileage   Engine      Power  Seats  \\\n",
       "0       CNG       Manual      First  26.6 km/kg   998 CC  58.16 bhp    5.0   \n",
       "1    Diesel       Manual      First  19.67 kmpl  1582 CC  126.2 bhp    5.0   \n",
       "2    Petrol       Manual      First   18.2 kmpl  1199 CC   88.7 bhp    5.0   \n",
       "3    Diesel       Manual      First  20.77 kmpl  1248 CC  88.76 bhp    7.0   \n",
       "4    Diesel    Automatic     Second   15.2 kmpl  1968 CC  140.8 bhp    5.0   \n",
       "\n",
       "   Price  \n",
       "0   1.75  \n",
       "1  12.50  \n",
       "2   4.50  \n",
       "3   6.00  \n",
       "4  17.74  "
      ],
      "text/html": "<div>\n<style scoped>\n    .dataframe tbody tr th:only-of-type {\n        vertical-align: middle;\n    }\n\n    .dataframe tbody tr th {\n        vertical-align: top;\n    }\n\n    .dataframe thead th {\n        text-align: right;\n    }\n</style>\n<table border=\"1\" class=\"dataframe\">\n  <thead>\n    <tr style=\"text-align: right;\">\n      <th></th>\n      <th>Name</th>\n      <th>Location</th>\n      <th>Year</th>\n      <th>Kilometers_Driven</th>\n      <th>Fuel_Type</th>\n      <th>Transmission</th>\n      <th>Owner_Type</th>\n      <th>Mileage</th>\n      <th>Engine</th>\n      <th>Power</th>\n      <th>Seats</th>\n      <th>Price</th>\n    </tr>\n  </thead>\n  <tbody>\n    <tr>\n      <th>0</th>\n      <td>Maruti Wagon R LXI CNG</td>\n      <td>Mumbai</td>\n      <td>2010</td>\n      <td>72000</td>\n      <td>CNG</td>\n      <td>Manual</td>\n      <td>First</td>\n      <td>26.6 km/kg</td>\n      <td>998 CC</td>\n      <td>58.16 bhp</td>\n      <td>5.0</td>\n      <td>1.75</td>\n    </tr>\n    <tr>\n      <th>1</th>\n      <td>Hyundai Creta 1.6 CRDi SX Option</td>\n      <td>Pune</td>\n      <td>2015</td>\n      <td>41000</td>\n      <td>Diesel</td>\n      <td>Manual</td>\n      <td>First</td>\n      <td>19.67 kmpl</td>\n      <td>1582 CC</td>\n      <td>126.2 bhp</td>\n      <td>5.0</td>\n      <td>12.50</td>\n    </tr>\n    <tr>\n      <th>2</th>\n      <td>Honda Jazz V</td>\n      <td>Chennai</td>\n      <td>2011</td>\n      <td>46000</td>\n      <td>Petrol</td>\n      <td>Manual</td>\n      <td>First</td>\n      <td>18.2 kmpl</td>\n      <td>1199 CC</td>\n      <td>88.7 bhp</td>\n      <td>5.0</td>\n      <td>4.50</td>\n    </tr>\n    <tr>\n      <th>3</th>\n      <td>Maruti Ertiga VDI</td>\n      <td>Chennai</td>\n      <td>2012</td>\n      <td>87000</td>\n      <td>Diesel</td>\n      <td>Manual</td>\n      <td>First</td>\n      <td>20.77 kmpl</td>\n      <td>1248 CC</td>\n      <td>88.76 bhp</td>\n      <td>7.0</td>\n      <td>6.00</td>\n    </tr>\n    <tr>\n      <th>4</th>\n      <td>Audi A4 New 2.0 TDI Multitronic</td>\n      <td>Coimbatore</td>\n      <td>2013</td>\n      <td>40670</td>\n      <td>Diesel</td>\n      <td>Automatic</td>\n      <td>Second</td>\n      <td>15.2 kmpl</td>\n      <td>1968 CC</td>\n      <td>140.8 bhp</td>\n      <td>5.0</td>\n      <td>17.74</td>\n    </tr>\n  </tbody>\n</table>\n</div>"
     },
     "metadata": {},
     "execution_count": 96
    }
   ],
   "source": [
    "## Remove column\n",
    "# New price column\n",
    "dataset_train = dataset_train.drop(['New_Price'], axis = 1)\n",
    "\n",
    "# Drop first column\n",
    "dataset_train.drop(dataset_train.columns[[0]], \n",
    "                   axis = 1, \n",
    "                   inplace = True)\n",
    "\n",
    "dataset_train.head()"
   ]
  },
  {
   "cell_type": "code",
   "execution_count": 97,
   "metadata": {},
   "outputs": [
    {
     "output_type": "execute_result",
     "data": {
      "text/plain": [
       "   Name  Location  Year  Kilometers_Driven  Fuel_Type  Transmission  \\\n",
       "0  1310         9  2010              72000          0             1   \n",
       "1   560        10  2015              41000          1             1   \n",
       "2   529         2  2011              46000          4             1   \n",
       "3  1160         2  2012              87000          1             1   \n",
       "4    23         3  2013              40670          1             0   \n",
       "\n",
       "   Owner_Type  Mileage  Engine  Power  Seats  Price  \n",
       "0           0      411     148    271    5.0   1.75  \n",
       "1           0      282      40     57    5.0  12.50  \n",
       "2           0      239      12    357    5.0   4.50  \n",
       "3           0      315      14    359    7.0   6.00  \n",
       "4           2      140      60     78    5.0  17.74  "
      ],
      "text/html": "<div>\n<style scoped>\n    .dataframe tbody tr th:only-of-type {\n        vertical-align: middle;\n    }\n\n    .dataframe tbody tr th {\n        vertical-align: top;\n    }\n\n    .dataframe thead th {\n        text-align: right;\n    }\n</style>\n<table border=\"1\" class=\"dataframe\">\n  <thead>\n    <tr style=\"text-align: right;\">\n      <th></th>\n      <th>Name</th>\n      <th>Location</th>\n      <th>Year</th>\n      <th>Kilometers_Driven</th>\n      <th>Fuel_Type</th>\n      <th>Transmission</th>\n      <th>Owner_Type</th>\n      <th>Mileage</th>\n      <th>Engine</th>\n      <th>Power</th>\n      <th>Seats</th>\n      <th>Price</th>\n    </tr>\n  </thead>\n  <tbody>\n    <tr>\n      <th>0</th>\n      <td>1310</td>\n      <td>9</td>\n      <td>2010</td>\n      <td>72000</td>\n      <td>0</td>\n      <td>1</td>\n      <td>0</td>\n      <td>411</td>\n      <td>148</td>\n      <td>271</td>\n      <td>5.0</td>\n      <td>1.75</td>\n    </tr>\n    <tr>\n      <th>1</th>\n      <td>560</td>\n      <td>10</td>\n      <td>2015</td>\n      <td>41000</td>\n      <td>1</td>\n      <td>1</td>\n      <td>0</td>\n      <td>282</td>\n      <td>40</td>\n      <td>57</td>\n      <td>5.0</td>\n      <td>12.50</td>\n    </tr>\n    <tr>\n      <th>2</th>\n      <td>529</td>\n      <td>2</td>\n      <td>2011</td>\n      <td>46000</td>\n      <td>4</td>\n      <td>1</td>\n      <td>0</td>\n      <td>239</td>\n      <td>12</td>\n      <td>357</td>\n      <td>5.0</td>\n      <td>4.50</td>\n    </tr>\n    <tr>\n      <th>3</th>\n      <td>1160</td>\n      <td>2</td>\n      <td>2012</td>\n      <td>87000</td>\n      <td>1</td>\n      <td>1</td>\n      <td>0</td>\n      <td>315</td>\n      <td>14</td>\n      <td>359</td>\n      <td>7.0</td>\n      <td>6.00</td>\n    </tr>\n    <tr>\n      <th>4</th>\n      <td>23</td>\n      <td>3</td>\n      <td>2013</td>\n      <td>40670</td>\n      <td>1</td>\n      <td>0</td>\n      <td>2</td>\n      <td>140</td>\n      <td>60</td>\n      <td>78</td>\n      <td>5.0</td>\n      <td>17.74</td>\n    </tr>\n  </tbody>\n</table>\n</div>"
     },
     "metadata": {},
     "execution_count": 97
    }
   ],
   "source": [
    "## Handle categorical column\n",
    "# Name, Location, Fuel_Type, Transmission, Owner_Type, Mileage, Engine, Power\n",
    "# Name\n",
    "from sklearn.preprocessing import LabelEncoder\n",
    "encoder = LabelEncoder()\n",
    "\n",
    "name_encoded_labels = list(dataset_train['Name'])\n",
    "dataset_train.Name = encoder.fit_transform(dataset_train.Name)\n",
    "name_encoded_labels_dict = dict(zip(list(dataset_train.Name), name_encoded_labels))\n",
    "\n",
    "location_encoded_labels = list(dataset_train['Location'])\n",
    "dataset_train.Location = encoder.fit_transform(dataset_train.Location)\n",
    "location_encoded_labels_dict = dict(zip(list(dataset_train.Location), location_encoded_labels))\n",
    "\n",
    "fueltype_encoded_labels = list(dataset_train['Fuel_Type'])\n",
    "dataset_train.Fuel_Type = encoder.fit_transform(dataset_train.Fuel_Type)\n",
    "fueltype_encoded_labels_dict = dict(zip(list(dataset_train.Fuel_Type), fueltype_encoded_labels))\n",
    "\n",
    "transmissions_encoded_labels = list(dataset_train['Transmission'])\n",
    "dataset_train.Transmission = encoder.fit_transform(dataset_train.Transmission)\n",
    "transmissions_encoded_labels_dict = dict(zip(list(dataset_train.Transmission), transmissions_encoded_labels))\n",
    "\n",
    "owner_encoded_labels = list(dataset_train['Owner_Type'])\n",
    "dataset_train.Owner_Type = encoder.fit_transform(dataset_train.Owner_Type)\n",
    "owner_encoded_labels_dict = dict(zip(list(dataset_train.Owner_Type), owner_encoded_labels))\n",
    "\n",
    "mileage_encoded_labels = list(dataset_train['Mileage'])\n",
    "dataset_train.Mileage = encoder.fit_transform(dataset_train.Mileage)\n",
    "mileage_encoded_labels_dict = dict(zip(list(dataset_train.Mileage), mileage_encoded_labels))\n",
    "\n",
    "engine_encoded_labels = list(dataset_train['Engine'])\n",
    "dataset_train.Engine = encoder.fit_transform(dataset_train.Engine)\n",
    "engine_encoded_labels_dict = dict(zip(list(dataset_train.Engine), engine_encoded_labels))\n",
    "\n",
    "power_encoded_labels = list(dataset_train['Power'])\n",
    "dataset_train.Power = encoder.fit_transform(dataset_train.Power)\n",
    "power_encoded_labels_dict = dict(zip(list(dataset_train.Power), power_encoded_labels))\n",
    "\n",
    "dataset_train.head()"
   ]
  },
  {
   "cell_type": "code",
   "execution_count": 98,
   "metadata": {},
   "outputs": [
    {
     "output_type": "execute_result",
     "data": {
      "text/plain": [
       "   Name  Location  Year  Kilometers_Driven  Fuel_Type  Transmission  \\\n",
       "0  1059         4  2014              40929          0             1   \n",
       "1  1049         3  2013              54493          4             1   \n",
       "2  1935         9  2017              34000          1             1   \n",
       "3  1870         5  2012             139000          1             1   \n",
       "4   827         9  2014              29000          4             1   \n",
       "\n",
       "   Owner_Type  Mileage  Engine  Power  Seats  Price  \n",
       "0           0      424     148    272    4.0    NaN  \n",
       "1           2      389     141    252    5.0    NaN  \n",
       "2           0       89      86     88    7.0    NaN  \n",
       "3           0      375      19    385    5.0    NaN  \n",
       "4           0      248      10    334    5.0    NaN  "
      ],
      "text/html": "<div>\n<style scoped>\n    .dataframe tbody tr th:only-of-type {\n        vertical-align: middle;\n    }\n\n    .dataframe tbody tr th {\n        vertical-align: top;\n    }\n\n    .dataframe thead th {\n        text-align: right;\n    }\n</style>\n<table border=\"1\" class=\"dataframe\">\n  <thead>\n    <tr style=\"text-align: right;\">\n      <th></th>\n      <th>Name</th>\n      <th>Location</th>\n      <th>Year</th>\n      <th>Kilometers_Driven</th>\n      <th>Fuel_Type</th>\n      <th>Transmission</th>\n      <th>Owner_Type</th>\n      <th>Mileage</th>\n      <th>Engine</th>\n      <th>Power</th>\n      <th>Seats</th>\n      <th>Price</th>\n    </tr>\n  </thead>\n  <tbody>\n    <tr>\n      <th>0</th>\n      <td>1059</td>\n      <td>4</td>\n      <td>2014</td>\n      <td>40929</td>\n      <td>0</td>\n      <td>1</td>\n      <td>0</td>\n      <td>424</td>\n      <td>148</td>\n      <td>272</td>\n      <td>4.0</td>\n      <td>NaN</td>\n    </tr>\n    <tr>\n      <th>1</th>\n      <td>1049</td>\n      <td>3</td>\n      <td>2013</td>\n      <td>54493</td>\n      <td>4</td>\n      <td>1</td>\n      <td>2</td>\n      <td>389</td>\n      <td>141</td>\n      <td>252</td>\n      <td>5.0</td>\n      <td>NaN</td>\n    </tr>\n    <tr>\n      <th>2</th>\n      <td>1935</td>\n      <td>9</td>\n      <td>2017</td>\n      <td>34000</td>\n      <td>1</td>\n      <td>1</td>\n      <td>0</td>\n      <td>89</td>\n      <td>86</td>\n      <td>88</td>\n      <td>7.0</td>\n      <td>NaN</td>\n    </tr>\n    <tr>\n      <th>3</th>\n      <td>1870</td>\n      <td>5</td>\n      <td>2012</td>\n      <td>139000</td>\n      <td>1</td>\n      <td>1</td>\n      <td>0</td>\n      <td>375</td>\n      <td>19</td>\n      <td>385</td>\n      <td>5.0</td>\n      <td>NaN</td>\n    </tr>\n    <tr>\n      <th>4</th>\n      <td>827</td>\n      <td>9</td>\n      <td>2014</td>\n      <td>29000</td>\n      <td>4</td>\n      <td>1</td>\n      <td>0</td>\n      <td>248</td>\n      <td>10</td>\n      <td>334</td>\n      <td>5.0</td>\n      <td>NaN</td>\n    </tr>\n  </tbody>\n</table>\n</div>"
     },
     "metadata": {},
     "execution_count": 98
    }
   ],
   "source": [
    "## Prepare testing dataset\n",
    "#\n",
    "\n",
    "dataset_test = dataset_train[6019:]\n",
    "dataset_test.head()"
   ]
  },
  {
   "cell_type": "code",
   "execution_count": 100,
   "metadata": {},
   "outputs": [],
   "source": [
    "## Dependent and Independant variables\n",
    "# \n",
    "features =['Name','Location','Year','Kilometers_Driven','Fuel_Type','Transmission','Owner_Type','Mileage','Engine','Power','Seats']\n",
    "target = 'Price'"
   ]
  },
  {
   "cell_type": "code",
   "execution_count": 112,
   "metadata": {},
   "outputs": [],
   "source": [
    "dataset_train.replace([np.inf, -np.inf], np.nan, inplace=True) \n",
    "dataset_train.dropna(inplace=True) \n",
    "  \n",
    "dataset_test.replace([np.inf, -np.inf], np.nan, inplace=True) \n",
    "dataset_test.dropna(inplace=True) "
   ]
  },
  {
   "cell_type": "code",
   "execution_count": 113,
   "metadata": {},
   "outputs": [
    {
     "output_type": "stream",
     "name": "stdout",
     "text": [
      "X train -  (5116, 11)\nY train -   (5116,)\nX test -  (903, 11)\nY test -  (903,)\n"
     ]
    }
   ],
   "source": [
    "## Split dataset\n",
    "#\n",
    "from sklearn.model_selection import train_test_split\n",
    "Y = dataset_train['Price']\n",
    "X = dataset_train.drop(columns=['Price'])\n",
    "X_train, X_test, Y_train, Y_test = train_test_split(X, Y, test_size=0.15, random_state=7)\n",
    "\n",
    "print('X train - ', X_train.shape)\n",
    "print('Y train -  ', Y_train.shape)\n",
    "print('X test - ', X_test.shape)\n",
    "print('Y test - ', Y_test.shape)"
   ]
  },
  {
   "cell_type": "code",
   "execution_count": null,
   "metadata": {},
   "outputs": [],
   "source": [
    "\n"
   ]
  },
  {
   "cell_type": "code",
   "execution_count": 109,
   "metadata": {},
   "outputs": [],
   "source": [
    "X_train = X_train.reset_index()\n",
    "Y_train = Y_train.reset_index()"
   ]
  },
  {
   "cell_type": "code",
   "execution_count": 114,
   "metadata": {},
   "outputs": [
    {
     "output_type": "stream",
     "name": "stdout",
     "text": [
      "RandomForestRegressor(bootstrap=False, max_depth=15, max_features='log2',\n                      random_state=42)\n"
     ]
    }
   ],
   "source": [
    "## Model \n",
    "# Random Forest\n",
    "# Find best parameters for random forest\n",
    "from sklearn.ensemble import RandomForestRegressor\n",
    "from sklearn.model_selection import GridSearchCV\n",
    "\n",
    "estimator = RandomForestRegressor(random_state = 42,criterion='mse')\n",
    "para_grids = {\n",
    "            \"n_estimators\" : [10,50,100],\n",
    "            \"max_features\" : [\"auto\", \"log2\", \"sqrt\"],\n",
    "            'max_depth' : [4,5,6,7,8,9,15],\n",
    "            \"bootstrap\"    : [True, False]\n",
    "        }\n",
    "\n",
    "Grid = GridSearchCV(estimator, para_grids,cv= 5)\n",
    "Grid.fit(X_train, Y_train)\n",
    "best_param = Grid.best_estimator_\n",
    "print(best_param)"
   ]
  },
  {
   "cell_type": "code",
   "execution_count": 116,
   "metadata": {},
   "outputs": [
    {
     "output_type": "execute_result",
     "data": {
      "text/plain": [
       "RandomForestRegressor(bootstrap=False, max_depth=15, max_features='log2',\n",
       "                      random_state=42)"
      ]
     },
     "metadata": {},
     "execution_count": 116
    }
   ],
   "source": [
    "# model\n",
    "model = RandomForestRegressor(random_state = 42,criterion='mse',\n",
    "                                bootstrap = False, \n",
    "                                max_depth = 15,\n",
    "                                max_features = 'log2')\n",
    "\n",
    "model.fit(X_train, Y_train)"
   ]
  },
  {
   "cell_type": "code",
   "execution_count": 117,
   "metadata": {},
   "outputs": [],
   "source": [
    "## Predictions\n",
    "#\n",
    "Y_pred = model.predict(X_test)"
   ]
  },
  {
   "cell_type": "code",
   "execution_count": 119,
   "metadata": {},
   "outputs": [
    {
     "output_type": "stream",
     "name": "stdout",
     "text": [
      "Results of sklearn.metrics:\nMAE: 1.5722175560632434\nMSE: 26.44454537962763\nRMSE: 5.142426020822043\nR-Squared: 0.8353584780934351\n"
     ]
    }
   ],
   "source": [
    "## About accuracy\n",
    "#\n",
    "\n",
    "import sklearn.metrics as metrics\n",
    "\n",
    "mae = metrics.mean_absolute_error(Y_test, Y_pred)\n",
    "mse = metrics.mean_squared_error(Y_test, Y_pred)\n",
    "rmse = np.sqrt(mse) # or mse**(0.5)  \n",
    "r2 = metrics.r2_score(Y_test, Y_pred)\n",
    "\n",
    "print(\"Results of sklearn.metrics:\")\n",
    "print(\"MAE:\",mae)\n",
    "print(\"MSE:\", mse)\n",
    "print(\"RMSE:\", rmse)\n",
    "print(\"R-Squared:\", r2)\n",
    " "
   ]
  },
  {
   "cell_type": "code",
   "execution_count": 121,
   "metadata": {},
   "outputs": [
    {
     "output_type": "stream",
     "name": "stderr",
     "text": [
      "[NbConvertApp] Converting notebook prise_pred.ipynb to script\n[NbConvertApp] Writing 6000 bytes to prise_pred.py\n"
     ]
    }
   ],
   "source": [
    "## Back to python\n",
    "#\n",
    "!jupyter nbconvert --to script prise_pred.ipynb"
   ]
  },
  {
   "cell_type": "code",
   "execution_count": null,
   "metadata": {},
   "outputs": [],
   "source": [
    "## End\n",
    "#"
   ]
  }
 ]
}